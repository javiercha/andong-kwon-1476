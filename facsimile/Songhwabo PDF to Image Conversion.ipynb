{
 "cells": [
  {
   "cell_type": "markdown",
   "id": "464ea921",
   "metadata": {},
   "source": [
    "**Description**\n",
    "\n",
    "This script transforms individual pages from the main entries of the *1476 Andong Kwŏn Genealogy* into high-resolution (300-dpi) JPEG images to facilitate the verification of the critical digital edition. Front matter, such as prefaces or postscripts, is excluded by specifying a start page. Volume one starts at page 13, and volumes two and three begin on page 3. Because each leaf in the woodblock-printed volume contains two sides, the script labels the output accordingly: `01a`, `01b`, `12a`, `12b`, and so forth. Filenames are prefixed with the volume identifier (e.g., `songwabo_vol2_`) to keep them distinct from other volumes in the series. The final images are saved in a designated `jpg/` directory."
   ]
  },
  {
   "cell_type": "code",
   "execution_count": 1,
   "id": "e95db17e",
   "metadata": {},
   "outputs": [],
   "source": [
    "#!uv pip install --upgrade pymupdf"
   ]
  },
  {
   "cell_type": "code",
   "execution_count": 2,
   "id": "98a62c41",
   "metadata": {},
   "outputs": [],
   "source": [
    "import fitz  # fitz is PyMuPDF\n",
    "import os"
   ]
  },
  {
   "cell_type": "code",
   "execution_count": 3,
   "id": "1e44bccd",
   "metadata": {},
   "outputs": [
    {
     "name": "stdout",
     "output_type": "stream",
     "text": [
      "Saved 114 pages to 'jpg/'.\n"
     ]
    }
   ],
   "source": [
    "pdf_path = \"안동권씨성화보 AKS JE A 55020 001.pdf\"\n",
    "output_dir = \"jpg\"\n",
    "start_page = 12  # Start form page 13.\n",
    "start_number = 1\n",
    "\n",
    "# Create the directory jpg/ if it doesn't exist.\n",
    "os.makedirs(output_dir, exist_ok=True)\n",
    "\n",
    "doc = fitz.open(pdf_path)\n",
    "\n",
    "for j, i in enumerate(range(start_page, len(doc))):\n",
    "    number = start_number + (j // 2)\n",
    "    side = \"a\" if j % 2 == 0 else \"b\"\n",
    "    filename = f\"songwabo_vol1_{number:02d}{side}.jpg\"\n",
    "    filepath = os.path.join(output_dir, filename)\n",
    "\n",
    "    page = doc[i]\n",
    "    pix = page.get_pixmap(dpi=300)\n",
    "    pix.save(filepath)\n",
    "\n",
    "print(f\"Saved {len(doc) - start_page} pages to '{output_dir}/'.\")"
   ]
  },
  {
   "cell_type": "code",
   "execution_count": 4,
   "id": "b7d3fd71",
   "metadata": {},
   "outputs": [
    {
     "name": "stdout",
     "output_type": "stream",
     "text": [
      "Saved 108 pages to 'jpg/'.\n"
     ]
    }
   ],
   "source": [
    "pdf_path = \"안동권씨성화보 AKS JE A 55020 002.pdf\"\n",
    "output_dir = \"jpg\"\n",
    "start_page = 2  # Start from page 3.\n",
    "start_number = 1\n",
    "\n",
    "# Create the directory jpg/ if it doesn't exist.\n",
    "os.makedirs(output_dir, exist_ok=True)\n",
    "\n",
    "doc = fitz.open(pdf_path)\n",
    "\n",
    "for j, i in enumerate(range(start_page, len(doc))):\n",
    "    number = start_number + (j // 2)\n",
    "    side = \"a\" if j % 2 == 0 else \"b\"\n",
    "    filename = f\"songwabo_vol2_{number:02d}{side}.jpg\"\n",
    "    filepath = os.path.join(output_dir, filename)\n",
    "\n",
    "    page = doc[i]\n",
    "    pix = page.get_pixmap(dpi=300)\n",
    "    pix.save(filepath)\n",
    "\n",
    "print(f\"Saved {len(doc) - start_page} pages to '{output_dir}/'.\")"
   ]
  },
  {
   "cell_type": "code",
   "execution_count": 5,
   "id": "8b8c3b43",
   "metadata": {},
   "outputs": [
    {
     "name": "stdout",
     "output_type": "stream",
     "text": [
      "Saved up to leaf number 71 into 'jpg/'.\n"
     ]
    }
   ],
   "source": [
    "pdf_path = \"안동권씨성화보 AKS JE A 55020 003.pdf\"\n",
    "output_dir = \"jpg\"\n",
    "start_page = 2  # Start from page 3.\n",
    "start_number = 1\n",
    "end_number = 71  # Stop when number reaches 71.\n",
    "\n",
    "# Create the directory jpg/ if it doesn't exist.\n",
    "os.makedirs(output_dir, exist_ok=True)\n",
    "\n",
    "doc = fitz.open(pdf_path)\n",
    "\n",
    "for j, i in enumerate(range(start_page, len(doc))):\n",
    "    number = start_number + (j // 2)\n",
    "    if number > end_number:\n",
    "        break\n",
    "\n",
    "    side = \"a\" if j % 2 == 0 else \"b\"\n",
    "    filename = f\"songwabo_vol3_{number:02d}{side}.jpg\"\n",
    "    filepath = os.path.join(output_dir, filename)\n",
    "\n",
    "    page = doc[i]\n",
    "    pix = page.get_pixmap(dpi=300)\n",
    "    pix.save(filepath)\n",
    "\n",
    "print(f\"Saved up to leaf number {end_number} into '{output_dir}/'.\")"
   ]
  }
 ],
 "metadata": {
  "kernelspec": {
   "display_name": "Python 3 (ipykernel)",
   "language": "python",
   "name": "python3"
  },
  "language_info": {
   "codemirror_mode": {
    "name": "ipython",
    "version": 3
   },
   "file_extension": ".py",
   "mimetype": "text/x-python",
   "name": "python",
   "nbconvert_exporter": "python",
   "pygments_lexer": "ipython3",
   "version": "3.9.13"
  }
 },
 "nbformat": 4,
 "nbformat_minor": 5
}
