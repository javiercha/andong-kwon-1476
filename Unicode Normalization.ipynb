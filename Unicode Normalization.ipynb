{
 "cells": [
  {
   "cell_type": "code",
   "execution_count": 1,
   "id": "86ec5726",
   "metadata": {},
   "outputs": [
    {
     "name": "stdout",
     "output_type": "stream",
     "text": [
      "Total count of affected characters: 788.\n"
     ]
    }
   ],
   "source": [
    "import csv\n",
    "import unicodedata\n",
    "\n",
    "files = [\n",
    "    \"tsv/andongkwon_1476_edges.tsv\",\n",
    "    \"tsv/andongkwon_1476_nodes.tsv\",\n",
    "]\n",
    "\n",
    "counter = 0\n",
    "\n",
    "for path in files:\n",
    "    with open(path, \"r\", encoding=\"utf-8\") as f:\n",
    "        data = list(csv.reader(f, delimiter=\"\\t\"))\n",
    "\n",
    "    normalized = []\n",
    "    for row in data:\n",
    "        new_row = []\n",
    "        for cell in row:\n",
    "            new_cell = unicodedata.normalize(\"NFKC\", cell)\n",
    "            if cell != new_cell:\n",
    "                counter += 1\n",
    "            new_row.append(new_cell)\n",
    "        normalized.append(new_row)\n",
    "\n",
    "    with open(path, \"w\", newline=\"\", encoding=\"utf-8\") as f:\n",
    "        csv.writer(f, delimiter=\"\\t\").writerows(normalized)\n",
    "\n",
    "print(f\"Total count of affected characters: {counter}.\")"
   ]
  }
 ],
 "metadata": {
  "kernelspec": {
   "display_name": "Python 3 (ipykernel)",
   "language": "python",
   "name": "python3"
  },
  "language_info": {
   "codemirror_mode": {
    "name": "ipython",
    "version": 3
   },
   "file_extension": ".py",
   "mimetype": "text/x-python",
   "name": "python",
   "nbconvert_exporter": "python",
   "pygments_lexer": "ipython3",
   "version": "3.9.13"
  }
 },
 "nbformat": 4,
 "nbformat_minor": 5
}
